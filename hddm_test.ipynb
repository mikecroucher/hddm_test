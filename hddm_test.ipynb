{
 "cells": [
  {
   "cell_type": "code",
   "execution_count": 1,
   "metadata": {
    "collapsed": false
   },
   "outputs": [
    {
     "name": "stderr",
     "output_type": "stream",
     "text": [
      "/Users/walkingrandomly/miniconda3/envs/hddm/lib/python3.4/site-packages/IPython/parallel.py:13: ShimWarning: The `IPython.parallel` package has been deprecated. You should import from ipyparallel instead.\n",
      "  \"You should import from ipyparallel instead.\", ShimWarning)\n",
      "/Users/walkingrandomly/miniconda3/envs/hddm/lib/python3.4/site-packages/pymc/Node.py:403: VisibleDeprecationWarning: using a non-integer number instead of an integer will result in an error in the future\n",
      "  self.__name__ = input['__name__']\n"
     ]
    },
    {
     "name": "stdout",
     "output_type": "stream",
     "text": [
      " [-----------------100%-----------------] 5000 of 5000 complete in 2.5 sec"
     ]
    },
    {
     "name": "stderr",
     "output_type": "stream",
     "text": [
      "/Users/walkingrandomly/miniconda3/envs/hddm/lib/python3.4/site-packages/numpy/core/fromnumeric.py:224: VisibleDeprecationWarning: using a non-integer number instead of an integer will result in an error in the future\n",
      "  return reshape(newshape, order=order)\n"
     ]
    },
    {
     "data": {
      "text/html": [
       "<div>\n",
       "<table border=\"1\" class=\"dataframe\">\n",
       "  <thead>\n",
       "    <tr style=\"text-align: right;\">\n",
       "      <th></th>\n",
       "      <th>mean</th>\n",
       "      <th>std</th>\n",
       "      <th>2.5q</th>\n",
       "      <th>25q</th>\n",
       "      <th>50q</th>\n",
       "      <th>75q</th>\n",
       "      <th>97.5q</th>\n",
       "      <th>mc err</th>\n",
       "    </tr>\n",
       "  </thead>\n",
       "  <tbody>\n",
       "    <tr>\n",
       "      <th>a</th>\n",
       "      <td>0.546987</td>\n",
       "      <td>0.0386303</td>\n",
       "      <td>0.478917</td>\n",
       "      <td>0.519505</td>\n",
       "      <td>0.544656</td>\n",
       "      <td>0.571118</td>\n",
       "      <td>0.628276</td>\n",
       "      <td>0.000738604</td>\n",
       "    </tr>\n",
       "    <tr>\n",
       "      <th>v</th>\n",
       "      <td>-0.827715</td>\n",
       "      <td>0.531247</td>\n",
       "      <td>-1.89395</td>\n",
       "      <td>-1.19029</td>\n",
       "      <td>-0.812407</td>\n",
       "      <td>-0.460675</td>\n",
       "      <td>0.188493</td>\n",
       "      <td>0.00713351</td>\n",
       "    </tr>\n",
       "    <tr>\n",
       "      <th>t</th>\n",
       "      <td>0.417939</td>\n",
       "      <td>0.00327134</td>\n",
       "      <td>0.410212</td>\n",
       "      <td>0.416041</td>\n",
       "      <td>0.418402</td>\n",
       "      <td>0.420319</td>\n",
       "      <td>0.423014</td>\n",
       "      <td>6.63986e-05</td>\n",
       "    </tr>\n",
       "  </tbody>\n",
       "</table>\n",
       "</div>"
      ],
      "text/plain": [
       "       mean         std      2.5q       25q       50q       75q     97.5q  \\\n",
       "a  0.546987   0.0386303  0.478917  0.519505  0.544656  0.571118  0.628276   \n",
       "v -0.827715    0.531247  -1.89395  -1.19029 -0.812407 -0.460675  0.188493   \n",
       "t  0.417939  0.00327134  0.410212  0.416041  0.418402  0.420319  0.423014   \n",
       "\n",
       "        mc err  \n",
       "a  0.000738604  \n",
       "v   0.00713351  \n",
       "t  6.63986e-05  "
      ]
     },
     "execution_count": 1,
     "metadata": {},
     "output_type": "execute_result"
    }
   ],
   "source": [
    "import hddm\n",
    "import numpy as np\n",
    "\n",
    "myseed=1\n",
    "np.random.seed(1)\n",
    "\n",
    "data, params = hddm.generate.gen_rand_data(seed=myseed)\n",
    "model = hddm.HDDM(data) # create object\n",
    "model.sample(5000, burn=20) # Sample from posterior\n",
    "model.gen_stats()"
   ]
  },
  {
   "cell_type": "code",
   "execution_count": 2,
   "metadata": {
    "collapsed": false
   },
   "outputs": [
    {
     "name": "stderr",
     "output_type": "stream",
     "text": [
      "/Users/walkingrandomly/miniconda3/envs/hddm/lib/python3.4/site-packages/pymc/Node.py:403: VisibleDeprecationWarning: using a non-integer number instead of an integer will result in an error in the future\n",
      "  self.__name__ = input['__name__']\n"
     ]
    },
    {
     "name": "stdout",
     "output_type": "stream",
     "text": [
      " [-----------------100%-----------------] 5000 of 5000 complete in 2.5 sec"
     ]
    },
    {
     "name": "stderr",
     "output_type": "stream",
     "text": [
      "/Users/walkingrandomly/miniconda3/envs/hddm/lib/python3.4/site-packages/numpy/core/fromnumeric.py:224: VisibleDeprecationWarning: using a non-integer number instead of an integer will result in an error in the future\n",
      "  return reshape(newshape, order=order)\n"
     ]
    },
    {
     "data": {
      "text/html": [
       "<div>\n",
       "<table border=\"1\" class=\"dataframe\">\n",
       "  <thead>\n",
       "    <tr style=\"text-align: right;\">\n",
       "      <th></th>\n",
       "      <th>mean</th>\n",
       "      <th>std</th>\n",
       "      <th>2.5q</th>\n",
       "      <th>25q</th>\n",
       "      <th>50q</th>\n",
       "      <th>75q</th>\n",
       "      <th>97.5q</th>\n",
       "      <th>mc err</th>\n",
       "    </tr>\n",
       "  </thead>\n",
       "  <tbody>\n",
       "    <tr>\n",
       "      <th>a</th>\n",
       "      <td>0.546858</td>\n",
       "      <td>0.0382567</td>\n",
       "      <td>0.4796</td>\n",
       "      <td>0.520017</td>\n",
       "      <td>0.544821</td>\n",
       "      <td>0.570804</td>\n",
       "      <td>0.629593</td>\n",
       "      <td>0.000824296</td>\n",
       "    </tr>\n",
       "    <tr>\n",
       "      <th>v</th>\n",
       "      <td>-0.849176</td>\n",
       "      <td>0.528945</td>\n",
       "      <td>-1.87037</td>\n",
       "      <td>-1.20081</td>\n",
       "      <td>-0.849557</td>\n",
       "      <td>-0.489372</td>\n",
       "      <td>0.187492</td>\n",
       "      <td>0.00765054</td>\n",
       "    </tr>\n",
       "    <tr>\n",
       "      <th>t</th>\n",
       "      <td>0.417919</td>\n",
       "      <td>0.00328838</td>\n",
       "      <td>0.410152</td>\n",
       "      <td>0.416075</td>\n",
       "      <td>0.418349</td>\n",
       "      <td>0.420282</td>\n",
       "      <td>0.423007</td>\n",
       "      <td>6.58724e-05</td>\n",
       "    </tr>\n",
       "  </tbody>\n",
       "</table>\n",
       "</div>"
      ],
      "text/plain": [
       "       mean         std      2.5q       25q       50q       75q     97.5q  \\\n",
       "a  0.546858   0.0382567    0.4796  0.520017  0.544821  0.570804  0.629593   \n",
       "v -0.849176    0.528945  -1.87037  -1.20081 -0.849557 -0.489372  0.187492   \n",
       "t  0.417919  0.00328838  0.410152  0.416075  0.418349  0.420282  0.423007   \n",
       "\n",
       "        mc err  \n",
       "a  0.000824296  \n",
       "v   0.00765054  \n",
       "t  6.58724e-05  "
      ]
     },
     "execution_count": 2,
     "metadata": {},
     "output_type": "execute_result"
    }
   ],
   "source": [
    "import hddm\n",
    "import numpy as np\n",
    "\n",
    "myseed=1\n",
    "np.random.seed(1)\n",
    "\n",
    "data, params = hddm.generate.gen_rand_data(seed=myseed)\n",
    "model = hddm.HDDM(data) # create object\n",
    "model.sample(5000, burn=20) # Sample from posterior\n",
    "model.gen_stats()"
   ]
  },
  {
   "cell_type": "code",
   "execution_count": 3,
   "metadata": {
    "collapsed": false
   },
   "outputs": [
    {
     "name": "stderr",
     "output_type": "stream",
     "text": [
      "/Users/walkingrandomly/miniconda3/envs/hddm/lib/python3.4/site-packages/pymc/Node.py:403: VisibleDeprecationWarning: using a non-integer number instead of an integer will result in an error in the future\n",
      "  self.__name__ = input['__name__']\n"
     ]
    },
    {
     "name": "stdout",
     "output_type": "stream",
     "text": [
      " [-----------------100%-----------------] 5000 of 5000 complete in 2.5 sec"
     ]
    },
    {
     "name": "stderr",
     "output_type": "stream",
     "text": [
      "/Users/walkingrandomly/miniconda3/envs/hddm/lib/python3.4/site-packages/numpy/core/fromnumeric.py:224: VisibleDeprecationWarning: using a non-integer number instead of an integer will result in an error in the future\n",
      "  return reshape(newshape, order=order)\n"
     ]
    },
    {
     "data": {
      "text/html": [
       "<div>\n",
       "<table border=\"1\" class=\"dataframe\">\n",
       "  <thead>\n",
       "    <tr style=\"text-align: right;\">\n",
       "      <th></th>\n",
       "      <th>mean</th>\n",
       "      <th>std</th>\n",
       "      <th>2.5q</th>\n",
       "      <th>25q</th>\n",
       "      <th>50q</th>\n",
       "      <th>75q</th>\n",
       "      <th>97.5q</th>\n",
       "      <th>mc err</th>\n",
       "    </tr>\n",
       "  </thead>\n",
       "  <tbody>\n",
       "    <tr>\n",
       "      <th>a</th>\n",
       "      <td>0.546858</td>\n",
       "      <td>0.0382567</td>\n",
       "      <td>0.4796</td>\n",
       "      <td>0.520017</td>\n",
       "      <td>0.544821</td>\n",
       "      <td>0.570804</td>\n",
       "      <td>0.629593</td>\n",
       "      <td>0.000824296</td>\n",
       "    </tr>\n",
       "    <tr>\n",
       "      <th>v</th>\n",
       "      <td>-0.849176</td>\n",
       "      <td>0.528945</td>\n",
       "      <td>-1.87037</td>\n",
       "      <td>-1.20081</td>\n",
       "      <td>-0.849557</td>\n",
       "      <td>-0.489372</td>\n",
       "      <td>0.187492</td>\n",
       "      <td>0.00765054</td>\n",
       "    </tr>\n",
       "    <tr>\n",
       "      <th>t</th>\n",
       "      <td>0.417919</td>\n",
       "      <td>0.00328838</td>\n",
       "      <td>0.410152</td>\n",
       "      <td>0.416075</td>\n",
       "      <td>0.418349</td>\n",
       "      <td>0.420282</td>\n",
       "      <td>0.423007</td>\n",
       "      <td>6.58724e-05</td>\n",
       "    </tr>\n",
       "  </tbody>\n",
       "</table>\n",
       "</div>"
      ],
      "text/plain": [
       "       mean         std      2.5q       25q       50q       75q     97.5q  \\\n",
       "a  0.546858   0.0382567    0.4796  0.520017  0.544821  0.570804  0.629593   \n",
       "v -0.849176    0.528945  -1.87037  -1.20081 -0.849557 -0.489372  0.187492   \n",
       "t  0.417919  0.00328838  0.410152  0.416075  0.418349  0.420282  0.423007   \n",
       "\n",
       "        mc err  \n",
       "a  0.000824296  \n",
       "v   0.00765054  \n",
       "t  6.58724e-05  "
      ]
     },
     "execution_count": 3,
     "metadata": {},
     "output_type": "execute_result"
    }
   ],
   "source": [
    "import hddm\n",
    "import numpy as np\n",
    "\n",
    "myseed=1\n",
    "np.random.seed(1)\n",
    "\n",
    "data, params = hddm.generate.gen_rand_data(seed=myseed)\n",
    "model = hddm.HDDM(data) # create object\n",
    "model.sample(5000, burn=20) # Sample from posterior\n",
    "model.gen_stats()"
   ]
  },
  {
   "cell_type": "code",
   "execution_count": 4,
   "metadata": {
    "collapsed": false
   },
   "outputs": [
    {
     "name": "stderr",
     "output_type": "stream",
     "text": [
      "/Users/walkingrandomly/miniconda3/envs/hddm/lib/python3.4/site-packages/pymc/Node.py:403: VisibleDeprecationWarning: using a non-integer number instead of an integer will result in an error in the future\n",
      "  self.__name__ = input['__name__']\n"
     ]
    },
    {
     "name": "stdout",
     "output_type": "stream",
     "text": [
      " [-----------------100%-----------------] 5000 of 5000 complete in 2.6 sec"
     ]
    },
    {
     "name": "stderr",
     "output_type": "stream",
     "text": [
      "/Users/walkingrandomly/miniconda3/envs/hddm/lib/python3.4/site-packages/numpy/core/fromnumeric.py:224: VisibleDeprecationWarning: using a non-integer number instead of an integer will result in an error in the future\n",
      "  return reshape(newshape, order=order)\n"
     ]
    },
    {
     "data": {
      "text/html": [
       "<div>\n",
       "<table border=\"1\" class=\"dataframe\">\n",
       "  <thead>\n",
       "    <tr style=\"text-align: right;\">\n",
       "      <th></th>\n",
       "      <th>mean</th>\n",
       "      <th>std</th>\n",
       "      <th>2.5q</th>\n",
       "      <th>25q</th>\n",
       "      <th>50q</th>\n",
       "      <th>75q</th>\n",
       "      <th>97.5q</th>\n",
       "      <th>mc err</th>\n",
       "    </tr>\n",
       "  </thead>\n",
       "  <tbody>\n",
       "    <tr>\n",
       "      <th>a</th>\n",
       "      <td>0.547758</td>\n",
       "      <td>0.0365778</td>\n",
       "      <td>0.48062</td>\n",
       "      <td>0.521672</td>\n",
       "      <td>0.546906</td>\n",
       "      <td>0.571955</td>\n",
       "      <td>0.624233</td>\n",
       "      <td>0.000750624</td>\n",
       "    </tr>\n",
       "    <tr>\n",
       "      <th>v</th>\n",
       "      <td>-0.834094</td>\n",
       "      <td>0.521507</td>\n",
       "      <td>-1.83902</td>\n",
       "      <td>-1.18956</td>\n",
       "      <td>-0.83957</td>\n",
       "      <td>-0.479825</td>\n",
       "      <td>0.17903</td>\n",
       "      <td>0.00768881</td>\n",
       "    </tr>\n",
       "    <tr>\n",
       "      <th>t</th>\n",
       "      <td>0.4179</td>\n",
       "      <td>0.00314142</td>\n",
       "      <td>0.41065</td>\n",
       "      <td>0.416086</td>\n",
       "      <td>0.418348</td>\n",
       "      <td>0.420155</td>\n",
       "      <td>0.42278</td>\n",
       "      <td>6.66567e-05</td>\n",
       "    </tr>\n",
       "  </tbody>\n",
       "</table>\n",
       "</div>"
      ],
      "text/plain": [
       "       mean         std     2.5q       25q       50q       75q     97.5q  \\\n",
       "a  0.547758   0.0365778  0.48062  0.521672  0.546906  0.571955  0.624233   \n",
       "v -0.834094    0.521507 -1.83902  -1.18956  -0.83957 -0.479825   0.17903   \n",
       "t    0.4179  0.00314142  0.41065  0.416086  0.418348  0.420155   0.42278   \n",
       "\n",
       "        mc err  \n",
       "a  0.000750624  \n",
       "v   0.00768881  \n",
       "t  6.66567e-05  "
      ]
     },
     "execution_count": 4,
     "metadata": {},
     "output_type": "execute_result"
    }
   ],
   "source": [
    "import hddm\n",
    "import numpy as np\n",
    "\n",
    "myseed=1\n",
    "np.random.seed(1)\n",
    "\n",
    "data, params = hddm.generate.gen_rand_data(seed=myseed)\n",
    "model = hddm.HDDM(data) # create object\n",
    "model.sample(5000, burn=20) # Sample from posterior\n",
    "model.gen_stats()"
   ]
  },
  {
   "cell_type": "code",
   "execution_count": null,
   "metadata": {
    "collapsed": true
   },
   "outputs": [],
   "source": []
  }
 ],
 "metadata": {
  "anaconda-cloud": {},
  "kernelspec": {
   "display_name": "Python [conda env:hddm]",
   "language": "python",
   "name": "conda-env-hddm-py"
  },
  "language_info": {
   "codemirror_mode": {
    "name": "ipython",
    "version": 3
   },
   "file_extension": ".py",
   "mimetype": "text/x-python",
   "name": "python",
   "nbconvert_exporter": "python",
   "pygments_lexer": "ipython3",
   "version": "3.4.5"
  }
 },
 "nbformat": 4,
 "nbformat_minor": 2
}
